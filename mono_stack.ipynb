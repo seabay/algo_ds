{
 "cells": [
  {
   "cell_type": "code",
   "execution_count": 12,
   "metadata": {},
   "outputs": [],
   "source": [
    "import collections\n",
    "import itertools"
   ]
  },
  {
   "cell_type": "code",
   "execution_count": 227,
   "metadata": {},
   "outputs": [],
   "source": [
    "raw = [2, 14, 10, 9, 8, 11, 6, 15, 5, 22]"
   ]
  },
  {
   "cell_type": "code",
   "execution_count": 195,
   "metadata": {},
   "outputs": [],
   "source": [
    "v2i = {}\n",
    "for i, v in enumerate(raw):\n",
    "    v2i[v] = i"
   ]
  },
  {
   "cell_type": "code",
   "execution_count": 196,
   "metadata": {},
   "outputs": [
    {
     "data": {
      "text/plain": [
       "{2: 0, 14: 1, 10: 2, 9: 3, 8: 4, 11: 5, 6: 6, 15: 7, 5: 8, 22: 9}"
      ]
     },
     "execution_count": 196,
     "metadata": {},
     "output_type": "execute_result"
    }
   ],
   "source": [
    "v2i"
   ]
  },
  {
   "cell_type": "code",
   "execution_count": 197,
   "metadata": {},
   "outputs": [],
   "source": [
    "data = raw[-1::-1]"
   ]
  },
  {
   "cell_type": "code",
   "execution_count": 198,
   "metadata": {},
   "outputs": [
    {
     "data": {
      "text/plain": [
       "[22, 5, 15, 6, 11, 8, 9, 10, 14, 2]"
      ]
     },
     "execution_count": 198,
     "metadata": {},
     "output_type": "execute_result"
    }
   ],
   "source": [
    "data"
   ]
  },
  {
   "cell_type": "code",
   "execution_count": 225,
   "metadata": {},
   "outputs": [
    {
     "name": "stdout",
     "output_type": "stream",
     "text": [
      "[22] \n",
      "\n",
      "pops [] \n",
      "\n",
      "i, j: 5 22\n",
      "i, pairs[i]: 5 22\n",
      "[5] \n",
      "\n",
      "pops [22] \n",
      "\n",
      "[5, 15] \n",
      "\n",
      "pops [22] \n",
      "\n",
      "i, j: 6 15\n",
      "idx, len(pos): 0 1\n",
      "cur_max 22\n",
      "i, pairs[i]: 6 15\n",
      "[5, 6] \n",
      "\n",
      "pops [22, 15] \n",
      "\n",
      "[5, 6, 11] \n",
      "\n",
      "pops [22, 15] \n",
      "\n",
      "i, j: 8 11\n",
      "idx, len(pos): 0 2\n",
      "cur_max 15\n",
      "idx, len(pos): 1 2\n",
      "cur_max 22\n",
      "i, pairs[i]: 8 11\n",
      "[5, 6, 8] \n",
      "\n",
      "pops [22, 15, 11] \n",
      "\n",
      "[5, 6, 8, 9] \n",
      "\n",
      "pops [22, 15, 11] \n",
      "\n",
      "[5, 6, 8, 9, 10] \n",
      "\n",
      "pops [22, 15, 11] \n",
      "\n",
      "[5, 6, 8, 9, 10, 14] \n",
      "\n",
      "pops [22, 15, 11] \n",
      "\n",
      "i, j: 2 14\n",
      "idx, len(pos): 0 3\n",
      "cur_max 11\n",
      "idx, len(pos): 1 3\n",
      "cur_max 15\n",
      "idx, len(pos): 2 3\n",
      "cur_max 22\n",
      "i, pairs[i]: 2 14\n",
      "i, j: 2 10\n",
      "idx, len(pos): 0 3\n",
      "cur_max 11\n",
      "idx, len(pos): 1 3\n",
      "cur_max 15\n",
      "idx, len(pos): 2 3\n",
      "cur_max 22\n",
      "i, j: 2 9\n",
      "idx, len(pos): 0 3\n",
      "cur_max 11\n",
      "idx, len(pos): 1 3\n",
      "cur_max 15\n",
      "idx, len(pos): 2 3\n",
      "cur_max 22\n",
      "i, j: 2 8\n",
      "idx, len(pos): 0 3\n",
      "cur_max 11\n",
      "idx, len(pos): 1 3\n",
      "cur_max 15\n",
      "idx, len(pos): 2 3\n",
      "cur_max 22\n",
      "i, j: 2 6\n",
      "idx, len(pos): 0 3\n",
      "cur_max 11\n",
      "idx, len(pos): 1 3\n",
      "cur_max 15\n",
      "idx, len(pos): 2 3\n",
      "cur_max 22\n",
      "i, j: 2 5\n",
      "idx, len(pos): 0 3\n",
      "cur_max 11\n",
      "idx, len(pos): 1 3\n",
      "cur_max 15\n",
      "idx, len(pos): 2 3\n",
      "cur_max 22\n",
      "[2] \n",
      "\n",
      "pops [22, 15, 11, 14] \n",
      "\n",
      "pops: [22, 15, 11, 14]\n",
      "pairs: {22: -1, 5: 22, 15: 22, 6: 15, 11: 15, 8: 11, 14: 15, 2: 14, 10: 11, 9: 11}\n",
      "22 -1\n",
      "5 22\n",
      "15 22\n",
      "6 15\n",
      "11 15\n",
      "8 11\n",
      "14 15\n",
      "2 14\n",
      "10 11\n",
      "9 11\n"
     ]
    }
   ],
   "source": [
    "### 递增栈\n",
    "\n",
    "stack = []\n",
    "results = [0]*len(data)\n",
    "pairs = {}\n",
    "pops = []\n",
    "first = True\n",
    "next_max = -1\n",
    "for i in data:   \n",
    "    \n",
    "    if len(stack) == 0 or i > stack[len(stack)-1]:\n",
    "        stack.append(i)\n",
    "    else:\n",
    "        while(len(stack) > 0 and i < stack[len(stack)-1]):\n",
    "            j = stack.pop()\n",
    "            print('i, j:', i ,j)\n",
    "            \n",
    "            if len(pops) == 0:\n",
    "                pairs[j] = -1\n",
    "            else:\n",
    "                lg = len(pops)\n",
    "                for idx in range(lg):\n",
    "                    print('idx, len(pos):', idx, lg)\n",
    "                    cur_max = pops[len(pops)-idx-1]\n",
    "                    print('cur_max', cur_max)\n",
    "                    if j < cur_max and j not in pairs:\n",
    "                        pairs[j] = cur_max\n",
    "            if first:\n",
    "                next_max = j\n",
    "                first = False\n",
    "            \n",
    "            if i not in pairs:\n",
    "                pairs[i] = j\n",
    "                print('i, pairs[i]:', i, pairs[i])\n",
    "        stack.append(i)\n",
    "        pops.append(next_max)\n",
    "        \n",
    "    print(stack, '\\n')\n",
    "    print('pops', pops, '\\n')\n",
    "    first = True\n",
    "    cur_max = next_max\n",
    "\n",
    "pairs[data[0]] = -1\n",
    "    \n",
    "print('pops:', pops)\n",
    "print(\"pairs:\", pairs)\n",
    "\n",
    "for i in pairs:\n",
    "    v = pairs[i]\n",
    "    print(i, v)\n",
    "    if v < 0:\n",
    "        results[v2i[i]] = 0\n",
    "    else:\n",
    "        results[v2i[i]] = v2i[v] - v2i[i] "
   ]
  },
  {
   "cell_type": "code",
   "execution_count": 233,
   "metadata": {},
   "outputs": [
    {
     "data": {
      "text/plain": [
       "[1, 6, 3, 2, 1, 2, 1, 2, 1, 0]"
      ]
     },
     "execution_count": 233,
     "metadata": {},
     "output_type": "execute_result"
    }
   ],
   "source": [
    "results"
   ]
  },
  {
   "cell_type": "code",
   "execution_count": null,
   "metadata": {},
   "outputs": [],
   "source": []
  },
  {
   "cell_type": "code",
   "execution_count": null,
   "metadata": {},
   "outputs": [],
   "source": []
  },
  {
   "cell_type": "code",
   "execution_count": 240,
   "metadata": {},
   "outputs": [],
   "source": [
    "### 递减栈\n",
    "raw = [2, 14, 10, 9, 8, 11, 6, 15, 5, 22]\n",
    "stack = []\n",
    "result = [0] * len(raw)\n",
    "for i,v in enumerate(raw):\n",
    "    \n",
    "    while(len(stack) != 0 and v > raw[stack[-1]]):   \n",
    "        idx = stack.pop()\n",
    "        width = i - idx\n",
    "        result[idx] = (width)\n",
    "    stack.append(i)"
   ]
  },
  {
   "cell_type": "code",
   "execution_count": 241,
   "metadata": {},
   "outputs": [
    {
     "data": {
      "text/plain": [
       "[1, 6, 3, 2, 1, 2, 1, 2, 1, 0]"
      ]
     },
     "execution_count": 241,
     "metadata": {},
     "output_type": "execute_result"
    }
   ],
   "source": [
    "result"
   ]
  },
  {
   "cell_type": "code",
   "execution_count": null,
   "metadata": {},
   "outputs": [],
   "source": []
  }
 ],
 "metadata": {
  "kernelspec": {
   "display_name": "Python 3",
   "language": "python",
   "name": "python3"
  },
  "language_info": {
   "codemirror_mode": {
    "name": "ipython",
    "version": 3
   },
   "file_extension": ".py",
   "mimetype": "text/x-python",
   "name": "python",
   "nbconvert_exporter": "python",
   "pygments_lexer": "ipython3",
   "version": "3.6.9"
  }
 },
 "nbformat": 4,
 "nbformat_minor": 4
}
