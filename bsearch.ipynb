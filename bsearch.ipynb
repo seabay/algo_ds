{
 "cells": [
  {
   "cell_type": "code",
   "execution_count": 13,
   "metadata": {},
   "outputs": [],
   "source": [
    "data = [8,11,19,23,27,33,45,55,67,9]"
   ]
  },
  {
   "cell_type": "code",
   "execution_count": 14,
   "metadata": {},
   "outputs": [],
   "source": [
    "data.sort()"
   ]
  },
  {
   "cell_type": "code",
   "execution_count": 17,
   "metadata": {},
   "outputs": [
    {
     "data": {
      "text/plain": [
       "[8, 9, 11, 19, 23, 27, 33, 45, 55, 67]"
      ]
     },
     "execution_count": 17,
     "metadata": {},
     "output_type": "execute_result"
    }
   ],
   "source": [
    "data"
   ]
  },
  {
   "cell_type": "code",
   "execution_count": 18,
   "metadata": {},
   "outputs": [],
   "source": [
    "def bsearch(data, v):\n",
    "    \n",
    "    low = 0\n",
    "    high = len(data)-1\n",
    "    \n",
    "    while(low <= high):\n",
    "        mid = int((low+high)/2)\n",
    "        if v == data[mid]:\n",
    "            return mid\n",
    "        elif v > data[mid]:\n",
    "            low = mid + 1\n",
    "        else:\n",
    "            high = mid - 1\n",
    "    return -1"
   ]
  },
  {
   "cell_type": "code",
   "execution_count": 21,
   "metadata": {},
   "outputs": [
    {
     "data": {
      "text/plain": [
       "8"
      ]
     },
     "execution_count": 21,
     "metadata": {},
     "output_type": "execute_result"
    }
   ],
   "source": [
    "bsearch(data, 55)"
   ]
  },
  {
   "cell_type": "code",
   "execution_count": 29,
   "metadata": {},
   "outputs": [],
   "source": [
    "def sqrt(n):\n",
    "    \n",
    "    low = 0\n",
    "    high = n\n",
    "    i = 0\n",
    "    while(i<10):\n",
    "        r = (low+high)/2\n",
    "        v = r*r\n",
    "        print('v=',v)\n",
    "        if v == n:\n",
    "            return r\n",
    "        elif v < n:\n",
    "            low = r\n",
    "        else:\n",
    "            high = r\n",
    "        i += 1\n",
    "        \n",
    "    print(r)\n",
    "    "
   ]
  },
  {
   "cell_type": "code",
   "execution_count": 32,
   "metadata": {},
   "outputs": [
    {
     "name": "stdout",
     "output_type": "stream",
     "text": [
      "v= 1600000000000000.0\n",
      "v= 400000000000000.0\n",
      "v= 100000000000000.0\n",
      "v= 25000000000000.0\n",
      "v= 6250000000000.0\n",
      "v= 1562500000000.0\n",
      "v= 390625000000.0\n",
      "v= 97656250000.0\n",
      "v= 24414062500.0\n",
      "v= 6103515625.0\n",
      "78125.0\n"
     ]
    }
   ],
   "source": [
    "sqrt(80000000)"
   ]
  },
  {
   "cell_type": "code",
   "execution_count": null,
   "metadata": {},
   "outputs": [],
   "source": []
  },
  {
   "cell_type": "code",
   "execution_count": 40,
   "metadata": {},
   "outputs": [],
   "source": [
    "def first_larger(data, v):\n",
    "    \n",
    "    low = 0\n",
    "    high = len(data)-1\n",
    "    \n",
    "    if data[high] < v or data[low] > v:\n",
    "        return -1\n",
    "    \n",
    "    while(low <= high):\n",
    "        mid = low + ((high-low) >> 1)\n",
    "        if data[mid] < v:\n",
    "            low = mid+1\n",
    "        elif data[mid] > v:\n",
    "            if mid == 0 or (data[mid-1] <= v):\n",
    "                return mid\n",
    "            high = mid -1\n",
    "    return -1"
   ]
  },
  {
   "cell_type": "code",
   "execution_count": 41,
   "metadata": {},
   "outputs": [
    {
     "data": {
      "text/plain": [
       "8"
      ]
     },
     "execution_count": 41,
     "metadata": {},
     "output_type": "execute_result"
    }
   ],
   "source": [
    "first_larger(data, 54)"
   ]
  },
  {
   "cell_type": "code",
   "execution_count": null,
   "metadata": {},
   "outputs": [],
   "source": []
  }
 ],
 "metadata": {
  "kernelspec": {
   "display_name": "Python 3",
   "language": "python",
   "name": "python3"
  },
  "language_info": {
   "codemirror_mode": {
    "name": "ipython",
    "version": 3
   },
   "file_extension": ".py",
   "mimetype": "text/x-python",
   "name": "python",
   "nbconvert_exporter": "python",
   "pygments_lexer": "ipython3",
   "version": "3.6.9"
  }
 },
 "nbformat": 4,
 "nbformat_minor": 2
}
