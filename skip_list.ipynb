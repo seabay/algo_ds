{
  "nbformat": 4,
  "nbformat_minor": 0,
  "metadata": {
    "colab": {
      "name": "skip-list.ipynb",
      "provenance": [],
      "collapsed_sections": [],
      "authorship_tag": "ABX9TyO6mqv6UqVa3Ko5fJS+lWoV",
      "include_colab_link": true
    },
    "kernelspec": {
      "name": "python3",
      "display_name": "Python 3"
    },
    "language_info": {
      "name": "python"
    }
  },
  "cells": [
    {
      "cell_type": "markdown",
      "metadata": {
        "id": "view-in-github",
        "colab_type": "text"
      },
      "source": [
        "<a href=\"https://colab.research.google.com/github/seabay/code_exercise/blob/master/skip_list.ipynb\" target=\"_parent\"><img src=\"https://colab.research.google.com/assets/colab-badge.svg\" alt=\"Open In Colab\"/></a>"
      ]
    },
    {
      "cell_type": "code",
      "metadata": {
        "id": "VQeEgmSPBvMK"
      },
      "source": [
        "import random \n",
        "\n"
      ],
      "execution_count": 2,
      "outputs": []
    },
    {
      "cell_type": "code",
      "metadata": {
        "id": "GYNyqX1rBxV3"
      },
      "source": [
        "class Node:\n",
        "    def __init__(self, v, r, d):\n",
        "        self.v=v\n",
        "        self.r=r\n",
        "        self.d=d"
      ],
      "execution_count": 2,
      "outputs": []
    },
    {
      "cell_type": "code",
      "metadata": {
        "id": "ukcb9EzDBsuq"
      },
      "source": [
        "class Skiplist:\n",
        "\n",
        "    def __init__(self):\n",
        "        self.head=None\n",
        "        self.level=0\n",
        "        \n",
        "\n",
        "    def search(self, target: int) -> bool:\n",
        "        \n",
        "        cnode=self.head\n",
        "        l=self.level\n",
        "        while l>=1 and cnode:\n",
        "            while(cnode.r and cnode.r.v < target): cnode=cnode.r\n",
        "            if cnode.r and cnode.r.v==target: return True\n",
        "            cnode=cnode.d\n",
        "            l-=1\n",
        "        \n",
        "        return False\n",
        "\n",
        "    def search_and_next(self, target: int):\n",
        "        \n",
        "        cnode=self.head\n",
        "        l=self.level\n",
        "        while l>=1 and cnode:\n",
        "            while(cnode.r and cnode.r.v < target): cnode=cnode.r\n",
        "            if cnode.r and cnode.r.v==target: \n",
        "              n=cnode.r.r\n",
        "              while n and n.d: n=n.d\n",
        "              return (True, n)\n",
        "            cnode=cnode.d\n",
        "            l-=1\n",
        "        \n",
        "        return (False, None)\n",
        "\n",
        "    \n",
        "    def search_list(self, target):\n",
        "\n",
        "        cur1=self.head\n",
        "        cur2=target.head\n",
        "\n",
        "        ret=[]\n",
        "        while cur1 and cur2:\n",
        "          sr2=self.search_and_next(cur2.v)\n",
        "          if sr2[1]: cur1\n",
        "\n",
        "\n",
        "\n",
        "        l=self.level\n",
        "\n",
        "        \n",
        "\n",
        "    def add(self, num: int) -> None:\n",
        "        clevel=1\n",
        "        while(clevel<=self.level and random.random()>=0.5):   ## find the level to insert\n",
        "            clevel+=1\n",
        "            print(clevel)\n",
        "        if(clevel>self.level): \n",
        "            self.level=clevel\n",
        "            self.head=Node(num, None, self.head)\n",
        "        \n",
        "        l=self.level\n",
        "        cnode=self.head\n",
        "        top=None\n",
        "        while l>=1:\n",
        "            while(cnode.r and cnode.r.v < num): cnode=cnode.r\n",
        "            if l<=clevel:\n",
        "                new_node=Node(num, cnode.r, None)\n",
        "                cnode.r=new_node\n",
        "                if top:\n",
        "                    top.d=new_node   \n",
        "                top=new_node\n",
        "            \n",
        "            cnode=cnode.d\n",
        "            l-=1\n",
        "\n",
        "    def erase(self, num: int) -> bool:\n",
        "        \n",
        "        cnode=self.head\n",
        "        ret=False\n",
        "        while cnode:\n",
        "            while(cnode.r and cnode.r.v < num): cnode=cnode.r\n",
        "            if cnode.r and cnode.r.v==num:\n",
        "                cnode.r=cnode.r.r\n",
        "                ret=True\n",
        "            cnode=cnode.d\n",
        "        \n",
        "        return ret\n"
      ],
      "execution_count": 4,
      "outputs": []
    },
    {
      "cell_type": "code",
      "metadata": {
        "colab": {
          "base_uri": "https://localhost:8080/"
        },
        "id": "uIY4_zTKB8B8",
        "outputId": "9d7b1842-da1d-4b3e-8502-404ea818489d"
      },
      "source": [
        "skiplist = Skiplist();\n",
        "\n",
        "skiplist.add(1);\n",
        "skiplist.add(2);\n",
        "skiplist.add(3);\n",
        "skiplist.search(0);   # return false.\n",
        "skiplist.add(4);\n",
        "skiplist.search(1);   # return true.\n",
        "skiplist.erase(0);    # return false, 0 is not in skiplist.\n",
        "skiplist.erase(1);    # return true.\n",
        "skiplist.search(1);   # return false, 1 has already been erased."
      ],
      "execution_count": 12,
      "outputs": [
        {
          "output_type": "stream",
          "text": [
            "2\n"
          ],
          "name": "stdout"
        }
      ]
    },
    {
      "cell_type": "code",
      "metadata": {
        "colab": {
          "base_uri": "https://localhost:8080/"
        },
        "id": "KG71W8mkCM9J",
        "outputId": "1837ab1b-dad5-408b-e6be-37e8a8ce5d86"
      },
      "source": [
        "s1 = Skiplist();\n",
        "l=[s1.add(i) for i in range(10)]"
      ],
      "execution_count": 17,
      "outputs": [
        {
          "output_type": "stream",
          "text": [
            "2\n",
            "2\n",
            "2\n",
            "2\n"
          ],
          "name": "stdout"
        }
      ]
    },
    {
      "cell_type": "code",
      "metadata": {
        "colab": {
          "base_uri": "https://localhost:8080/"
        },
        "id": "v6RdqMJ_CZkU",
        "outputId": "fff070fe-eb43-4403-dfb0-6691670bc500"
      },
      "source": [
        "s1.head.v"
      ],
      "execution_count": 18,
      "outputs": [
        {
          "output_type": "execute_result",
          "data": {
            "text/plain": [
              "1"
            ]
          },
          "metadata": {
            "tags": []
          },
          "execution_count": 18
        }
      ]
    },
    {
      "cell_type": "code",
      "metadata": {
        "colab": {
          "base_uri": "https://localhost:8080/"
        },
        "id": "aY9FPh8FCf2h",
        "outputId": "10b1f871-9ea1-4c3e-abd7-e02ded72d3cc"
      },
      "source": [
        "s2 = Skiplist();\n",
        "l=[s2.add(i) for i in range(5, 15)]"
      ],
      "execution_count": 19,
      "outputs": [
        {
          "output_type": "stream",
          "text": [
            "2\n",
            "2\n",
            "3\n",
            "2\n",
            "2\n",
            "3\n",
            "4\n"
          ],
          "name": "stdout"
        }
      ]
    },
    {
      "cell_type": "code",
      "metadata": {
        "colab": {
          "base_uri": "https://localhost:8080/"
        },
        "id": "jDVIAaazCwlg",
        "outputId": "b48145dc-9327-41d1-edf7-e0da086c74b4"
      },
      "source": [
        "s2.search(14)"
      ],
      "execution_count": 25,
      "outputs": [
        {
          "output_type": "execute_result",
          "data": {
            "text/plain": [
              "True"
            ]
          },
          "metadata": {
            "tags": []
          },
          "execution_count": 25
        }
      ]
    },
    {
      "cell_type": "code",
      "metadata": {
        "id": "kUFOKMKGCydU"
      },
      "source": [
        "class Node:\n",
        "    def __init__(self):\n",
        "        self.v=-10000\n",
        "        self.next=[None]*5\n",
        "        self.max_level=0\n",
        "    \n",
        "\n",
        "class Skiplist2:\n",
        "    \n",
        "    def __init__(self):\n",
        "        self.head=Node()\n",
        "        self.level=0\n",
        "        \n",
        "    \n",
        "    def add(self, num: int) -> None:\n",
        "        \n",
        "        clevel=1 # level start from 1\n",
        "        while(clevel<=self.level and random.random()>=0.5):   ## find the level to insert\n",
        "            clevel+=1\n",
        "            print(clevel)\n",
        "        if(clevel>self.level): \n",
        "            self.level=clevel\n",
        "        \n",
        "        nnode=Node()\n",
        "        nnode.v=num\n",
        "        nnode.next=[None]*clevel\n",
        "        nnode.max_level=clevel\n",
        "        \n",
        "        update=[None]*clevel\n",
        "        for i in range(clevel):\n",
        "            update[i]=self.head\n",
        "        \n",
        "        l=clevel-1\n",
        "        \n",
        "        p=self.head\n",
        "        while l>=0:\n",
        "            while(p.next[l] and p.next[l].v < num): p=p.next[l]\n",
        "            update[l]=p\n",
        "            l-=1\n",
        "        \n",
        "        l=clevel-1\n",
        "        while l>=0:\n",
        "            nnode.next[l]=update[l].next[l]\n",
        "            update[l].next[l]=nnode\n",
        "            l-=1\n",
        "\n",
        "\n",
        "    def search(self, num):\n",
        "\n",
        "      p=self.head\n",
        "      l=self.level-1\n",
        "\n",
        "      while l>=0:\n",
        "        while(p.next[l] and p.next[l].v<num):p=p.next[l]\n",
        "        if p.next[l] and p.next[l].v==num: return True\n",
        "\n",
        "        l-=1\n",
        "\n",
        "      return False\n",
        "\n",
        "\n",
        "    def delete(self, num):\n",
        "\n",
        "      p=self.head\n",
        "      l=self.level-1\n",
        "\n",
        "      seen=False\n",
        "      update=[None]*self.level\n",
        "      while l>=0:\n",
        "        while(p.next[l] and p.next[l].v<num):p=p.next[l]\n",
        "        update[l]=p\n",
        "        l-=1\n",
        "      \n",
        "      l=self.level-1\n",
        "      if p.next[0] and p.next[0].v==num:\n",
        "        tmp=p.next[0]\n",
        "        #print(tmp)\n",
        "        seen=True\n",
        "        while l>=0:\n",
        "          if update[l] and update[l].next[l]==tmp:\n",
        "              #print(update[l].next[l])\n",
        "              update[l].next[l]=update[l].next[l].next[l]\n",
        "          l-=1\n",
        "\n",
        "      while self.level>1 and not self.head.next[self.level]:\n",
        "        self.level-=1\n",
        "      \n",
        "      return seen\n",
        "\n",
        "\n",
        "    def print(self):\n",
        "      l=self.level\n",
        "      while l>=0:\n",
        "        n=self.head\n",
        "        while n.next[l]:\n",
        "          print(n.next[l].v)\n",
        "          n=n.next[l]\n",
        "        print()\n",
        "        l-=1"
      ],
      "execution_count": 34,
      "outputs": []
    },
    {
      "cell_type": "code",
      "metadata": {
        "id": "FnKxyPPX5TMJ"
      },
      "source": [
        "s=Skiplist2()"
      ],
      "execution_count": 83,
      "outputs": []
    },
    {
      "cell_type": "code",
      "metadata": {
        "colab": {
          "base_uri": "https://localhost:8080/"
        },
        "id": "8xWQJaQ_5XW4",
        "outputId": "49ed37b8-2695-4f90-b6f4-c7202b47c1d7"
      },
      "source": [
        "s.add(0)\n",
        "s.add(5)\n",
        "s.add(2)\n",
        "s.add(5)\n",
        "s.add(5)\n",
        "s.add(6)\n",
        "s.add(7)\n",
        "s.add(8)\n",
        "s.add(9)"
      ],
      "execution_count": 84,
      "outputs": [
        {
          "output_type": "stream",
          "text": [
            "2\n",
            "2\n"
          ],
          "name": "stdout"
        }
      ]
    },
    {
      "cell_type": "code",
      "metadata": {
        "colab": {
          "base_uri": "https://localhost:8080/"
        },
        "id": "D83L7R8p5YVb",
        "outputId": "c2661d1c-e667-4e10-b393-6d7ec02d5171"
      },
      "source": [
        "s.print()"
      ],
      "execution_count": 85,
      "outputs": [
        {
          "output_type": "stream",
          "text": [
            "\n",
            "5\n",
            "5\n",
            "\n",
            "0\n",
            "2\n",
            "5\n",
            "5\n",
            "5\n",
            "6\n",
            "7\n",
            "8\n",
            "9\n",
            "\n"
          ],
          "name": "stdout"
        }
      ]
    },
    {
      "cell_type": "code",
      "metadata": {
        "colab": {
          "base_uri": "https://localhost:8080/"
        },
        "id": "PTo9kVEG6k7z",
        "outputId": "29490e7f-1b5e-492e-f92d-f7e04669bde8"
      },
      "source": [
        "s.search(0)"
      ],
      "execution_count": 57,
      "outputs": [
        {
          "output_type": "execute_result",
          "data": {
            "text/plain": [
              "True"
            ]
          },
          "metadata": {
            "tags": []
          },
          "execution_count": 57
        }
      ]
    },
    {
      "cell_type": "code",
      "metadata": {
        "colab": {
          "base_uri": "https://localhost:8080/"
        },
        "id": "nAxvu19R9Wmm",
        "outputId": "45b9f431-b0e3-4ab1-95d9-b5e2327a50cc"
      },
      "source": [
        "s.delete(5)"
      ],
      "execution_count": 86,
      "outputs": [
        {
          "output_type": "execute_result",
          "data": {
            "text/plain": [
              "True"
            ]
          },
          "metadata": {
            "tags": []
          },
          "execution_count": 86
        }
      ]
    },
    {
      "cell_type": "code",
      "metadata": {
        "colab": {
          "base_uri": "https://localhost:8080/"
        },
        "id": "CzLQJ0io9iUO",
        "outputId": "ad076f8a-ae5e-4421-c4d6-2d9af6966e73"
      },
      "source": [
        "s.print()"
      ],
      "execution_count": 87,
      "outputs": [
        {
          "output_type": "stream",
          "text": [
            "5\n",
            "\n",
            "0\n",
            "2\n",
            "5\n",
            "5\n",
            "6\n",
            "7\n",
            "8\n",
            "9\n",
            "\n"
          ],
          "name": "stdout"
        }
      ]
    },
    {
      "cell_type": "code",
      "metadata": {
        "colab": {
          "base_uri": "https://localhost:8080/"
        },
        "id": "MNhSVK0u9jI4",
        "outputId": "0a96d66e-d78b-498d-dfb1-533b325dde13"
      },
      "source": [
        "s.search(2)"
      ],
      "execution_count": 60,
      "outputs": [
        {
          "output_type": "execute_result",
          "data": {
            "text/plain": [
              "True"
            ]
          },
          "metadata": {
            "tags": []
          },
          "execution_count": 60
        }
      ]
    },
    {
      "cell_type": "code",
      "metadata": {
        "colab": {
          "base_uri": "https://localhost:8080/"
        },
        "id": "o1jwqEdzFRvc",
        "outputId": "cb8590a2-724a-4aae-b72e-3f00dbffcf2a"
      },
      "source": [
        "s.print()"
      ],
      "execution_count": 61,
      "outputs": [
        {
          "output_type": "stream",
          "text": [
            "2\n",
            "5\n",
            "5\n",
            "\n",
            "0\n",
            "2\n",
            "5\n",
            "5\n",
            "5\n",
            "6\n",
            "7\n",
            "8\n",
            "\n"
          ],
          "name": "stdout"
        }
      ]
    },
    {
      "cell_type": "code",
      "metadata": {
        "colab": {
          "base_uri": "https://localhost:8080/"
        },
        "id": "V1s8YgII-fi9",
        "outputId": "cf03bbfc-e416-4d59-ad8f-b5afdedba28c"
      },
      "source": [
        "s.search(5)"
      ],
      "execution_count": 43,
      "outputs": [
        {
          "output_type": "execute_result",
          "data": {
            "text/plain": [
              "True"
            ]
          },
          "metadata": {
            "tags": []
          },
          "execution_count": 43
        }
      ]
    },
    {
      "cell_type": "code",
      "metadata": {
        "colab": {
          "base_uri": "https://localhost:8080/"
        },
        "id": "VlpesmYL-ve0",
        "outputId": "991f1f10-5b16-4282-bd53-73b12b7b5d66"
      },
      "source": [
        "s.search(2)"
      ],
      "execution_count": 49,
      "outputs": [
        {
          "output_type": "execute_result",
          "data": {
            "text/plain": [
              "False"
            ]
          },
          "metadata": {
            "tags": []
          },
          "execution_count": 49
        }
      ]
    },
    {
      "cell_type": "code",
      "metadata": {
        "colab": {
          "base_uri": "https://localhost:8080/"
        },
        "id": "tJu4kkecJfNX",
        "outputId": "29641317-6af8-4684-e62f-c54bd0e07fe7"
      },
      "source": [
        "s.delete(2)"
      ],
      "execution_count": 45,
      "outputs": [
        {
          "output_type": "execute_result",
          "data": {
            "text/plain": [
              "True"
            ]
          },
          "metadata": {
            "tags": []
          },
          "execution_count": 45
        }
      ]
    },
    {
      "cell_type": "code",
      "metadata": {
        "colab": {
          "base_uri": "https://localhost:8080/"
        },
        "id": "-GW7EUQbJgVy",
        "outputId": "845007d4-322e-46c1-b07b-301f410df2c8"
      },
      "source": [
        "s.search(8)"
      ],
      "execution_count": 46,
      "outputs": [
        {
          "output_type": "execute_result",
          "data": {
            "text/plain": [
              "True"
            ]
          },
          "metadata": {
            "tags": []
          },
          "execution_count": 46
        }
      ]
    },
    {
      "cell_type": "code",
      "metadata": {
        "id": "dX6h5cx0Jh-w"
      },
      "source": [
        "s.add(10)"
      ],
      "execution_count": 165,
      "outputs": []
    },
    {
      "cell_type": "code",
      "metadata": {
        "colab": {
          "base_uri": "https://localhost:8080/"
        },
        "id": "mMvZmrLqJk41",
        "outputId": "44d1017c-f70e-4570-ce1a-ff5178e633c7"
      },
      "source": [
        "s.search(10)"
      ],
      "execution_count": 166,
      "outputs": [
        {
          "output_type": "execute_result",
          "data": {
            "text/plain": [
              "True"
            ]
          },
          "metadata": {
            "tags": []
          },
          "execution_count": 166
        }
      ]
    },
    {
      "cell_type": "code",
      "metadata": {
        "colab": {
          "base_uri": "https://localhost:8080/"
        },
        "id": "eamqma3AJmAT",
        "outputId": "b04d6289-e776-4217-aba1-231963cb4123"
      },
      "source": [
        "s.delete(10)"
      ],
      "execution_count": 167,
      "outputs": [
        {
          "output_type": "execute_result",
          "data": {
            "text/plain": [
              "True"
            ]
          },
          "metadata": {
            "tags": []
          },
          "execution_count": 167
        }
      ]
    },
    {
      "cell_type": "code",
      "metadata": {
        "colab": {
          "base_uri": "https://localhost:8080/"
        },
        "id": "1e2Iyn50JnEu",
        "outputId": "2a5b40fd-b8ff-413b-dcbe-13aa861f18b2"
      },
      "source": [
        "s.search(10)"
      ],
      "execution_count": 168,
      "outputs": [
        {
          "output_type": "execute_result",
          "data": {
            "text/plain": [
              "False"
            ]
          },
          "metadata": {
            "tags": []
          },
          "execution_count": 168
        }
      ]
    },
    {
      "cell_type": "code",
      "metadata": {
        "id": "ot0VIW0sJn43"
      },
      "source": [
        ""
      ],
      "execution_count": null,
      "outputs": []
    }
  ]
}