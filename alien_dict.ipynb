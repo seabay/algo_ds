{
  "nbformat": 4,
  "nbformat_minor": 0,
  "metadata": {
    "colab": {
      "name": "alien_dict.ipynb",
      "provenance": [],
      "authorship_tag": "ABX9TyMODxye874+q7x1H/AqA6Vf",
      "include_colab_link": true
    },
    "kernelspec": {
      "name": "python3",
      "display_name": "Python 3"
    }
  },
  "cells": [
    {
      "cell_type": "markdown",
      "metadata": {
        "id": "view-in-github",
        "colab_type": "text"
      },
      "source": [
        "<a href=\"https://colab.research.google.com/github/seabay/code_exercise/blob/master/alien_dict.ipynb\" target=\"_parent\"><img src=\"https://colab.research.google.com/assets/colab-badge.svg\" alt=\"Open In Colab\"/></a>"
      ]
    },
    {
      "cell_type": "code",
      "metadata": {
        "id": "ipRK5ESbaHqz"
      },
      "source": [
        "import collections"
      ],
      "execution_count": 18,
      "outputs": []
    },
    {
      "cell_type": "code",
      "metadata": {
        "id": "8HdkT7QsQOmp"
      },
      "source": [
        "words = ['dd', 'dab', 'dad', 'cc', 'ce']"
      ],
      "execution_count": 32,
      "outputs": []
    },
    {
      "cell_type": "code",
      "metadata": {
        "id": "QXUwdwfSY13D"
      },
      "source": [
        "def compare(s1, s2):\n",
        "\n",
        "  i=0\n",
        "  while i<len(s1) and i<len(s2):\n",
        "    if s1[i] != s2[i]:\n",
        "      return (s1[i], s2[i])\n",
        "    i += 1\n",
        "\n",
        "  return None"
      ],
      "execution_count": 14,
      "outputs": []
    },
    {
      "cell_type": "code",
      "metadata": {
        "id": "za3Y6G8CZW2g"
      },
      "source": [
        "def sort(pairs):\n",
        "\n",
        "  degree=collections.defaultdict(int)\n",
        "  edges=collections.defaultdict(list)\n",
        "  for p in pairs:\n",
        "    degree[p[1]] += 1\n",
        "    edges[p[0]].append(p[1])\n",
        "\n",
        "  \n",
        "  roots=set()\n",
        "  for v in pairs:\n",
        "    if v[0] not in degree:\n",
        "      roots.add(v[0])\n",
        "\n",
        "  q=collections.deque(roots)\n",
        "\n",
        "  print('q=', q)\n",
        "  ret = []\n",
        "  while len(q) != 0:\n",
        "    item = q.pop()\n",
        "    ret.append(item)\n",
        "    vals = edges[item]\n",
        "    for v in vals:\n",
        "      degree[v] -= 1\n",
        "      if degree[v] == 0: q.append(v)\n",
        "\n",
        "  \n",
        "  return ret\n",
        "\n",
        "\n"
      ],
      "execution_count": 29,
      "outputs": []
    },
    {
      "cell_type": "code",
      "metadata": {
        "id": "R0YcqGIdQZqy"
      },
      "source": [
        "def find_order(words):\n",
        "\n",
        "  pairs = set()\n",
        "  for i in range(len(words)-1):\n",
        "    s1=words[i]\n",
        "    s2=words[i+1]\n",
        "\n",
        "    pair = compare(s1, s2)\n",
        "    if pair != None:\n",
        "      pairs.add(pair)\n",
        "\n",
        "\n",
        "  print(pairs)\n",
        "  q=sort(pairs)\n",
        "  return q\n"
      ],
      "execution_count": 30,
      "outputs": []
    },
    {
      "cell_type": "code",
      "metadata": {
        "id": "FeCJHUgHb0wy",
        "outputId": "0d181705-02bd-4f4d-8c22-cd861fc0d6c4",
        "colab": {
          "base_uri": "https://localhost:8080/"
        }
      },
      "source": [
        "find_order(words)"
      ],
      "execution_count": 33,
      "outputs": [
        {
          "output_type": "stream",
          "text": [
            "[('d', 'a'), ('b', 'd'), ('d', 'c'), ('c', 'e')]\n",
            "q= deque(['b'])\n"
          ],
          "name": "stdout"
        },
        {
          "output_type": "execute_result",
          "data": {
            "text/plain": [
              "['b', 'd', 'c', 'e', 'a']"
            ]
          },
          "metadata": {
            "tags": []
          },
          "execution_count": 33
        }
      ]
    },
    {
      "cell_type": "code",
      "metadata": {
        "id": "eCXNKvS_b3M3"
      },
      "source": [
        ""
      ],
      "execution_count": null,
      "outputs": []
    }
  ]
}