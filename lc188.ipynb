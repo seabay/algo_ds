{
  "nbformat": 4,
  "nbformat_minor": 0,
  "metadata": {
    "colab": {
      "name": "lc188.ipynb",
      "provenance": [],
      "collapsed_sections": [],
      "authorship_tag": "ABX9TyPl0Q+uFqiu0MeuL7w+qnVN",
      "include_colab_link": true
    },
    "kernelspec": {
      "name": "python3",
      "display_name": "Python 3"
    },
    "language_info": {
      "name": "python"
    }
  },
  "cells": [
    {
      "cell_type": "markdown",
      "metadata": {
        "id": "view-in-github",
        "colab_type": "text"
      },
      "source": [
        "<a href=\"https://colab.research.google.com/github/seabay/code_exercise/blob/master/lc188.ipynb\" target=\"_parent\"><img src=\"https://colab.research.google.com/assets/colab-badge.svg\" alt=\"Open In Colab\"/></a>"
      ]
    },
    {
      "cell_type": "code",
      "metadata": {
        "id": "TFjEnPA1Y9UC"
      },
      "source": [
        "import math"
      ],
      "execution_count": 6,
      "outputs": []
    },
    {
      "cell_type": "code",
      "metadata": {
        "id": "H5_uW3BLYgY5"
      },
      "source": [
        "class Solution:\n",
        "    def maxProfit(self, k, prices):\n",
        "        \n",
        "        # i = days\n",
        "        # j = 1..k\n",
        "        # s = 0/1\n",
        "        \n",
        "        d=len(prices)\n",
        "        \n",
        "        '''\n",
        "        dp=[]\n",
        "        for i in range(d+1):\n",
        "          l=[]\n",
        "          for j in range(k+1):\n",
        "            ll=[0]*2\n",
        "            l.append(ll)\n",
        "          dp.append(l) \n",
        "        '''\n",
        "\n",
        "        dp=[ [[0,0] for i in range(k+1)] for j in range(d+1)]\n",
        "        \n",
        "        for j in range(k+1):\n",
        "            dp[0][j][0]=0\n",
        "            dp[0][j][1]=-math.inf\n",
        "        \n",
        "        for i in range(d+1):\n",
        "            dp[i][0][0]=0\n",
        "            dp[i][0][1]=-math.inf\n",
        "        \n",
        "        print(len(dp))\n",
        "        print(len(dp[0]))\n",
        "        print(len(dp[0][0]))\n",
        "\n",
        "        for i in range(1, d+1):\n",
        "            for j in range(k,0,-1):\n",
        "                dp[i][j][0]=max(dp[i-1][j][0], dp[i-1][j][1]+prices[i-1])\n",
        "                dp[i][j][1]=max(dp[i-1][j][1], dp[i-1][j-1][0]-prices[i-1])\n",
        "\n",
        "            print(dp)\n",
        "            print()\n",
        "        \n",
        "        #print(dp)\n",
        "        return dp[d][k][0]"
      ],
      "execution_count": 54,
      "outputs": []
    },
    {
      "cell_type": "code",
      "metadata": {
        "id": "Tf4uQTiTYldS"
      },
      "source": [
        "s=Solution()"
      ],
      "execution_count": 55,
      "outputs": []
    },
    {
      "cell_type": "code",
      "metadata": {
        "colab": {
          "base_uri": "https://localhost:8080/"
        },
        "id": "SabFwEzGYr3Q",
        "outputId": "4bb8fd02-759c-4a12-9b48-da69ad663afd"
      },
      "source": [
        "s.maxProfit(2, [3,3,5,0,0,3,1,4])"
      ],
      "execution_count": 56,
      "outputs": [
        {
          "output_type": "stream",
          "text": [
            "9\n",
            "3\n",
            "2\n",
            "[[[0, -inf], [0, -inf], [0, -inf]], [[0, -inf], [0, -3], [0, -3]], [[0, -inf], [0, 0], [0, 0]], [[0, -inf], [0, 0], [0, 0]], [[0, -inf], [0, 0], [0, 0]], [[0, -inf], [0, 0], [0, 0]], [[0, -inf], [0, 0], [0, 0]], [[0, -inf], [0, 0], [0, 0]], [[0, -inf], [0, 0], [0, 0]]]\n",
            "\n",
            "[[[0, -inf], [0, -inf], [0, -inf]], [[0, -inf], [0, -3], [0, -3]], [[0, -inf], [0, -3], [0, -3]], [[0, -inf], [0, 0], [0, 0]], [[0, -inf], [0, 0], [0, 0]], [[0, -inf], [0, 0], [0, 0]], [[0, -inf], [0, 0], [0, 0]], [[0, -inf], [0, 0], [0, 0]], [[0, -inf], [0, 0], [0, 0]]]\n",
            "\n",
            "[[[0, -inf], [0, -inf], [0, -inf]], [[0, -inf], [0, -3], [0, -3]], [[0, -inf], [0, -3], [0, -3]], [[0, -inf], [2, -3], [2, -3]], [[0, -inf], [0, 0], [0, 0]], [[0, -inf], [0, 0], [0, 0]], [[0, -inf], [0, 0], [0, 0]], [[0, -inf], [0, 0], [0, 0]], [[0, -inf], [0, 0], [0, 0]]]\n",
            "\n",
            "[[[0, -inf], [0, -inf], [0, -inf]], [[0, -inf], [0, -3], [0, -3]], [[0, -inf], [0, -3], [0, -3]], [[0, -inf], [2, -3], [2, -3]], [[0, -inf], [2, 0], [2, 2]], [[0, -inf], [0, 0], [0, 0]], [[0, -inf], [0, 0], [0, 0]], [[0, -inf], [0, 0], [0, 0]], [[0, -inf], [0, 0], [0, 0]]]\n",
            "\n",
            "[[[0, -inf], [0, -inf], [0, -inf]], [[0, -inf], [0, -3], [0, -3]], [[0, -inf], [0, -3], [0, -3]], [[0, -inf], [2, -3], [2, -3]], [[0, -inf], [2, 0], [2, 2]], [[0, -inf], [2, 0], [2, 2]], [[0, -inf], [0, 0], [0, 0]], [[0, -inf], [0, 0], [0, 0]], [[0, -inf], [0, 0], [0, 0]]]\n",
            "\n",
            "[[[0, -inf], [0, -inf], [0, -inf]], [[0, -inf], [0, -3], [0, -3]], [[0, -inf], [0, -3], [0, -3]], [[0, -inf], [2, -3], [2, -3]], [[0, -inf], [2, 0], [2, 2]], [[0, -inf], [2, 0], [2, 2]], [[0, -inf], [3, 0], [5, 2]], [[0, -inf], [0, 0], [0, 0]], [[0, -inf], [0, 0], [0, 0]]]\n",
            "\n",
            "[[[0, -inf], [0, -inf], [0, -inf]], [[0, -inf], [0, -3], [0, -3]], [[0, -inf], [0, -3], [0, -3]], [[0, -inf], [2, -3], [2, -3]], [[0, -inf], [2, 0], [2, 2]], [[0, -inf], [2, 0], [2, 2]], [[0, -inf], [3, 0], [5, 2]], [[0, -inf], [3, 0], [5, 2]], [[0, -inf], [0, 0], [0, 0]]]\n",
            "\n",
            "[[[0, -inf], [0, -inf], [0, -inf]], [[0, -inf], [0, -3], [0, -3]], [[0, -inf], [0, -3], [0, -3]], [[0, -inf], [2, -3], [2, -3]], [[0, -inf], [2, 0], [2, 2]], [[0, -inf], [2, 0], [2, 2]], [[0, -inf], [3, 0], [5, 2]], [[0, -inf], [3, 0], [5, 2]], [[0, -inf], [4, 0], [6, 2]]]\n",
            "\n"
          ],
          "name": "stdout"
        },
        {
          "output_type": "execute_result",
          "data": {
            "text/plain": [
              "6"
            ]
          },
          "metadata": {
            "tags": []
          },
          "execution_count": 56
        }
      ]
    },
    {
      "cell_type": "code",
      "metadata": {
        "colab": {
          "base_uri": "https://localhost:8080/"
        },
        "id": "N9MmNr7dYxXT",
        "outputId": "78adfc9f-0174-4f75-dd17-6931f3ace2b3"
      },
      "source": [
        "for i in range(2, 0, -1):\n",
        "  print(i)"
      ],
      "execution_count": 57,
      "outputs": [
        {
          "output_type": "stream",
          "text": [
            "2\n",
            "1\n"
          ],
          "name": "stdout"
        }
      ]
    },
    {
      "cell_type": "code",
      "metadata": {
        "id": "Drvc8DTdY0kz"
      },
      "source": [
        ""
      ],
      "execution_count": null,
      "outputs": []
    }
  ]
}