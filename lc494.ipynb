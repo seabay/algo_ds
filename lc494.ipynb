{
  "nbformat": 4,
  "nbformat_minor": 0,
  "metadata": {
    "colab": {
      "name": "lc494.ipynb",
      "provenance": [],
      "collapsed_sections": [],
      "authorship_tag": "ABX9TyNaAG37Pcy11TJ8ogJvNZqc",
      "include_colab_link": true
    },
    "kernelspec": {
      "name": "python3",
      "display_name": "Python 3"
    },
    "language_info": {
      "name": "python"
    }
  },
  "cells": [
    {
      "cell_type": "markdown",
      "metadata": {
        "id": "view-in-github",
        "colab_type": "text"
      },
      "source": [
        "<a href=\"https://colab.research.google.com/github/seabay/code_exercise/blob/master/lc494.ipynb\" target=\"_parent\"><img src=\"https://colab.research.google.com/assets/colab-badge.svg\" alt=\"Open In Colab\"/></a>"
      ]
    },
    {
      "cell_type": "code",
      "metadata": {
        "id": "azLb4IstVnYE"
      },
      "source": [
        "from collections import defaultdict"
      ],
      "execution_count": 1,
      "outputs": []
    },
    {
      "cell_type": "code",
      "metadata": {
        "id": "WCAe2He0msk-"
      },
      "source": [
        "res=[]\n",
        "\n",
        "def mysum(lst, tar):\n",
        "  helper(lst, 0, tar, [])\n",
        "\n",
        "def helper(lst, idx, tar, path):\n",
        "\n",
        "  if sum(path)==tar and len(lst)==idx:\n",
        "    res.append(path.copy()) \n",
        "\n",
        "  if len(lst)==idx:return\n",
        "  \n",
        "  for s in ['-', '+']:\n",
        "    if s=='-':\n",
        "      cv=-1\n",
        "    else:\n",
        "      cv=1\n",
        "    path.append(cv)\n",
        "    helper(lst, idx+1, tar, path)\n",
        "    del path[-1]\n",
        "  \n"
      ],
      "execution_count": 61,
      "outputs": []
    },
    {
      "cell_type": "code",
      "metadata": {
        "colab": {
          "base_uri": "https://localhost:8080/"
        },
        "id": "-k5WqfDzoBrE",
        "outputId": "fb3bc8fb-3abe-45d4-9194-2e9b2172f687"
      },
      "source": [
        "mysum([1,1,1,1,1], 3)\n",
        "res"
      ],
      "execution_count": 62,
      "outputs": [
        {
          "output_type": "execute_result",
          "data": {
            "text/plain": [
              "[[-1, 1, 1, 1, 1],\n",
              " [1, -1, 1, 1, 1],\n",
              " [1, 1, -1, 1, 1],\n",
              " [1, 1, 1, -1, 1],\n",
              " [1, 1, 1, 1, -1]]"
            ]
          },
          "metadata": {
            "tags": []
          },
          "execution_count": 62
        }
      ]
    },
    {
      "cell_type": "code",
      "metadata": {
        "id": "A_T4JXu-zehe"
      },
      "source": [
        ""
      ],
      "execution_count": null,
      "outputs": []
    },
    {
      "cell_type": "code",
      "metadata": {
        "id": "jUuHcbxwoI0N"
      },
      "source": [
        "def mysum2(lst, tar):\n",
        "  return dp(lst, 0, tar)\n",
        "\n",
        "memo={}\n",
        "def dp(lst, idx, rest):\n",
        "\n",
        "  if idx==len(lst):\n",
        "    if rest==0:\n",
        "      return 1\n",
        "    else:\n",
        "      return 0\n",
        "  \n",
        "  key=str(idx)+\",\"+str(rest)\n",
        "  if key in memo:\n",
        "    return memo[key]\n",
        "  result=dp(lst, idx+1, rest+1) + dp(lst, idx+1, rest-1)\n",
        "  memo[key]=result\n",
        "\n",
        "  return result\n",
        "  "
      ],
      "execution_count": 30,
      "outputs": []
    },
    {
      "cell_type": "code",
      "metadata": {
        "colab": {
          "base_uri": "https://localhost:8080/"
        },
        "id": "Kuq86obPsIkW",
        "outputId": "f85d443f-528c-4388-b2de-c2ced3a44b0e"
      },
      "source": [
        "mysum2([1,1,1,1,1], 3)"
      ],
      "execution_count": 31,
      "outputs": [
        {
          "output_type": "execute_result",
          "data": {
            "text/plain": [
              "5"
            ]
          },
          "metadata": {
            "tags": []
          },
          "execution_count": 31
        }
      ]
    },
    {
      "cell_type": "code",
      "metadata": {
        "id": "p72CigOtsS3f"
      },
      "source": [
        "def dp2(lst, tar):\n",
        "\n",
        "  lst.insert(0, 0)\n",
        "  size=len(lst)\n",
        "  print(lst)\n",
        "  \n",
        "  ntar=int((tar+sum(lst))/2)\n",
        "  print(ntar)\n",
        "\n",
        "  dpt=[[0]*(ntar+1) for i in range(size)]\n",
        "\n",
        "  for i in range(size):\n",
        "    dpt[i][0]=1\n",
        "\n",
        "  for i in range(1, size):\n",
        "    for j in range(1, ntar+1):\n",
        "      if j<lst[i]:\n",
        "        dpt[i][j]=dpt[i-1][j]\n",
        "      else:\n",
        "        dpt[i][j]=dpt[i-1][j-lst[i]]+dpt[i-1][j]\n",
        "\n",
        "  print(dpt)\n",
        "  return dpt[size-1][ntar]"
      ],
      "execution_count": 58,
      "outputs": []
    },
    {
      "cell_type": "code",
      "metadata": {
        "colab": {
          "base_uri": "https://localhost:8080/"
        },
        "id": "Sftq3XyCupEr",
        "outputId": "6cf9a6e6-8c9d-41fb-c808-a1f7ff1bc3e6"
      },
      "source": [
        "dp2([1,1,1,1,1], 3)"
      ],
      "execution_count": 59,
      "outputs": [
        {
          "output_type": "stream",
          "text": [
            "[0, 1, 1, 1, 1, 1]\n",
            "4\n",
            "[[1, 0, 0, 0, 0], [1, 1, 0, 0, 0], [1, 2, 1, 0, 0], [1, 3, 3, 1, 0], [1, 4, 6, 4, 1], [1, 5, 10, 10, 5]]\n"
          ],
          "name": "stdout"
        },
        {
          "output_type": "execute_result",
          "data": {
            "text/plain": [
              "5"
            ]
          },
          "metadata": {
            "tags": []
          },
          "execution_count": 59
        }
      ]
    },
    {
      "cell_type": "code",
      "metadata": {
        "id": "Hb5YW9_buq5b"
      },
      "source": [
        ""
      ],
      "execution_count": null,
      "outputs": []
    }
  ]
}