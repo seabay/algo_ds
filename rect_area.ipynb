{
 "cells": [
  {
   "cell_type": "code",
   "execution_count": 1,
   "metadata": {},
   "outputs": [],
   "source": [
    "import collections\n",
    "import itertools"
   ]
  },
  {
   "cell_type": "code",
   "execution_count": 21,
   "metadata": {},
   "outputs": [],
   "source": [
    "raw = [2,1,5,5,6,2,3]"
   ]
  },
  {
   "cell_type": "code",
   "execution_count": 22,
   "metadata": {},
   "outputs": [
    {
     "data": {
      "text/plain": [
       "[2, 1, 5, 5, 6, 2, 3, 0]"
      ]
     },
     "execution_count": 22,
     "metadata": {},
     "output_type": "execute_result"
    }
   ],
   "source": [
    "data = raw + [0]  ## 增加 0，保证所有的元素都可以被处理\n",
    "data"
   ]
  },
  {
   "cell_type": "code",
   "execution_count": 29,
   "metadata": {},
   "outputs": [
    {
     "name": "stdout",
     "output_type": "stream",
     "text": [
      "0 i= 1 v= 1 : 0 2 width= 1 []\n",
      "2 i= 5 v= 2 : 4 6 width= 1 [1, 2, 3]\n",
      "6 i= 5 v= 2 : 3 5 width= 2 [1, 2]\n",
      "10 i= 5 v= 2 : 2 5 width= 3 [1]\n",
      "15 i= 7 v= 0 : 6 3 width= 1 [1, 5]\n",
      "15 i= 7 v= 0 : 5 2 width= 5 [1]\n",
      "15 i= 7 v= 0 : 1 1 width= 7 []\n"
     ]
    }
   ],
   "source": [
    "\n",
    "stack = []\n",
    "res = 0\n",
    "for i, v in enumerate(data):\n",
    "    ### trigger 出栈\n",
    "    while(len(stack) != 0 and v < data[stack[-1]]):\n",
    "        cur_max_idx = stack.pop()\n",
    "        \n",
    "        if len(stack) == 0:\n",
    "            width = i\n",
    "        else:\n",
    "            width = i-1 - stack[-1]\n",
    "        \n",
    "        # 每次 从 i 往左边移动增加 1，宽度增加 1，高度为当前最高值【每次弹出的值】\n",
    "        # 例如 i=5,v=2，然后开始往左边移动：\n",
    "            # 移动 1， width=1, h=6 => area=6\n",
    "            # 移动 2， widht=2, h=5 => area=10\n",
    "            # 移动 3， width=3, h=5 => area=15\n",
    "        print(res, 'i=',i, 'v=',v, ':', cur_max_idx, data[cur_max_idx], 'width=',width, stack)\n",
    "        res = max(res, data[cur_max_idx] * width)  \n",
    "    \n",
    "    \n",
    "    stack.append(i) \n",
    "\n"
   ]
  },
  {
   "cell_type": "code",
   "execution_count": 24,
   "metadata": {},
   "outputs": [
    {
     "data": {
      "text/plain": [
       "15"
      ]
     },
     "execution_count": 24,
     "metadata": {},
     "output_type": "execute_result"
    }
   ],
   "source": [
    "res"
   ]
  },
  {
   "cell_type": "code",
   "execution_count": null,
   "metadata": {},
   "outputs": [],
   "source": []
  }
 ],
 "metadata": {
  "kernelspec": {
   "display_name": "Python 3",
   "language": "python",
   "name": "python3"
  },
  "language_info": {
   "codemirror_mode": {
    "name": "ipython",
    "version": 3
   },
   "file_extension": ".py",
   "mimetype": "text/x-python",
   "name": "python",
   "nbconvert_exporter": "python",
   "pygments_lexer": "ipython3",
   "version": "3.6.9"
  }
 },
 "nbformat": 4,
 "nbformat_minor": 4
}
