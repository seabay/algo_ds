{
 "cells": [
  {
   "cell_type": "code",
   "execution_count": null,
   "metadata": {},
   "outputs": [],
   "source": []
  },
  {
   "cell_type": "code",
   "execution_count": 75,
   "metadata": {},
   "outputs": [],
   "source": [
    "data = [14, 3, 9, 11, 2, 8, 9, 13]"
   ]
  },
  {
   "cell_type": "code",
   "execution_count": 76,
   "metadata": {},
   "outputs": [
    {
     "data": {
      "text/plain": [
       "[14]"
      ]
     },
     "execution_count": 76,
     "metadata": {},
     "output_type": "execute_result"
    }
   ],
   "source": [
    "data[0:1]"
   ]
  },
  {
   "cell_type": "code",
   "execution_count": 68,
   "metadata": {},
   "outputs": [],
   "source": [
    "def merge_sort_c(data, p, r):\n",
    "    \n",
    "    if p>=r:\n",
    "        return\n",
    "    \n",
    "    q = int((p+r)/2)\n",
    "    print('p=', p, 'q=', q, 'r=', r)\n",
    "    print('data[q]:', data[q])\n",
    "    \n",
    "    merge_sort_c(data, p, q)\n",
    "    merge_sort_c(data, q+1, r)\n",
    "    merge(data, p, q, q+1, r)\n",
    "    "
   ]
  },
  {
   "cell_type": "code",
   "execution_count": 72,
   "metadata": {},
   "outputs": [],
   "source": [
    "def merge(data, p, q, k, r):\n",
    "    \n",
    "    tmp=[]\n",
    "    \n",
    "    start = p\n",
    "    while(p<=q and k<=r):\n",
    "        if data[p] < data[k]:\n",
    "            tmp.append(data[p])\n",
    "            p += 1\n",
    "        else:\n",
    "            tmp.append(data[k])\n",
    "            k += 1\n",
    "    \n",
    "    if p > q:\n",
    "        tmp.extend(data[k:r+1])\n",
    "    if k > r:\n",
    "        tmp.extend(data[p:q+1])\n",
    "    \n",
    "    print('p=', p, 'q=', q, 'k=', k, 'r=', r, 'tmp=', tmp)\n",
    "    data[start:r+1] = tmp[:]"
   ]
  },
  {
   "cell_type": "code",
   "execution_count": 77,
   "metadata": {},
   "outputs": [
    {
     "name": "stdout",
     "output_type": "stream",
     "text": [
      "p= 0 q= 3 r= 7\n",
      "data[q]: 11\n",
      "p= 0 q= 1 r= 3\n",
      "data[q]: 3\n",
      "p= 0 q= 0 r= 1\n",
      "data[q]: 14\n",
      "p= 0 q= 0 k= 2 r= 1 tmp= [3, 14]\n",
      "p= 2 q= 2 r= 3\n",
      "data[q]: 9\n",
      "p= 3 q= 2 k= 3 r= 3 tmp= [9, 11]\n",
      "p= 1 q= 1 k= 4 r= 3 tmp= [3, 9, 11, 14]\n",
      "p= 4 q= 5 r= 7\n",
      "data[q]: 8\n",
      "p= 4 q= 4 r= 5\n",
      "data[q]: 2\n",
      "p= 5 q= 4 k= 5 r= 5 tmp= [2, 8]\n",
      "p= 6 q= 6 r= 7\n",
      "data[q]: 9\n",
      "p= 7 q= 6 k= 7 r= 7 tmp= [9, 13]\n",
      "p= 6 q= 5 k= 6 r= 7 tmp= [2, 8, 9, 13]\n",
      "p= 3 q= 3 k= 8 r= 7 tmp= [2, 3, 8, 9, 9, 11, 13, 14]\n"
     ]
    }
   ],
   "source": [
    "merge_sort_c(data, 0, len(data)-1)"
   ]
  },
  {
   "cell_type": "code",
   "execution_count": 78,
   "metadata": {},
   "outputs": [
    {
     "data": {
      "text/plain": [
       "[2, 3, 8, 9, 9, 11, 13, 14]"
      ]
     },
     "execution_count": 78,
     "metadata": {},
     "output_type": "execute_result"
    }
   ],
   "source": [
    "data"
   ]
  },
  {
   "cell_type": "code",
   "execution_count": null,
   "metadata": {},
   "outputs": [],
   "source": []
  }
 ],
 "metadata": {
  "kernelspec": {
   "display_name": "Python 3",
   "language": "python",
   "name": "python3"
  },
  "language_info": {
   "codemirror_mode": {
    "name": "ipython",
    "version": 3
   },
   "file_extension": ".py",
   "mimetype": "text/x-python",
   "name": "python",
   "nbconvert_exporter": "python",
   "pygments_lexer": "ipython3",
   "version": "3.6.9"
  }
 },
 "nbformat": 4,
 "nbformat_minor": 2
}
