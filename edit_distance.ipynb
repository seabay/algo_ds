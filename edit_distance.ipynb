{
 "cells": [
  {
   "cell_type": "code",
   "execution_count": null,
   "metadata": {},
   "outputs": [],
   "source": []
  },
  {
   "cell_type": "code",
   "execution_count": null,
   "metadata": {},
   "outputs": [],
   "source": []
  },
  {
   "cell_type": "code",
   "execution_count": 46,
   "metadata": {},
   "outputs": [],
   "source": [
    "\n",
    "cache = {}\n",
    "\n",
    "def distance(src, tar, i, j):\n",
    "    \n",
    "    if str(i)+'_'+str(j) in cache:\n",
    "        return cache[str(i)+'_'+str(j)]\n",
    "        \n",
    "    if i == -1:\n",
    "        return j+1\n",
    "    if j == -1:\n",
    "        return i+1\n",
    "        \n",
    "    \n",
    "    if src[i] == tar[j]:\n",
    "        return distance(src, tar, i-1, j-1)\n",
    "    \n",
    "    insert = distance(src, tar, i, j-1)+1\n",
    "    cache[str(i)+'_'+str(j-1)] = insert\n",
    "    delete = distance(src, tar, i-1, j)+1\n",
    "    cache[str(i-1)+'_'+str(j)] = delete\n",
    "    sub = distance(src, tar, i-1, j-1)+1\n",
    "    cache[str(i-1)+'_'+str(j-1)] = sub\n",
    "\n",
    "    ret =  min(insert, delete, sub)\n",
    "    cache[str(i)+'_'+str(j)] = ret\n",
    "\n",
    "    return ret\n"
   ]
  },
  {
   "cell_type": "code",
   "execution_count": 47,
   "metadata": {},
   "outputs": [],
   "source": [
    "src = 'avbdf'\n",
    "tar = 'abdef'"
   ]
  },
  {
   "cell_type": "code",
   "execution_count": 48,
   "metadata": {},
   "outputs": [
    {
     "data": {
      "text/plain": [
       "2"
      ]
     },
     "execution_count": 48,
     "metadata": {},
     "output_type": "execute_result"
    }
   ],
   "source": [
    "distance(src, tar, len(src)-1, len(tar)-1)"
   ]
  },
  {
   "cell_type": "code",
   "execution_count": null,
   "metadata": {},
   "outputs": [],
   "source": []
  },
  {
   "cell_type": "code",
   "execution_count": null,
   "metadata": {},
   "outputs": [],
   "source": []
  }
 ],
 "metadata": {
  "kernelspec": {
   "display_name": "Python 3",
   "language": "python",
   "name": "python3"
  },
  "language_info": {
   "codemirror_mode": {
    "name": "ipython",
    "version": 3
   },
   "file_extension": ".py",
   "mimetype": "text/x-python",
   "name": "python",
   "nbconvert_exporter": "python",
   "pygments_lexer": "ipython3",
   "version": "3.6.9"
  }
 },
 "nbformat": 4,
 "nbformat_minor": 2
}
