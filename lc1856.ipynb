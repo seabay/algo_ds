{
  "nbformat": 4,
  "nbformat_minor": 0,
  "metadata": {
    "colab": {
      "name": "lc1856.ipynb",
      "provenance": [],
      "collapsed_sections": [],
      "authorship_tag": "ABX9TyMiX9HDY/97MlBdkMpFlSia",
      "include_colab_link": true
    },
    "kernelspec": {
      "name": "python3",
      "display_name": "Python 3"
    },
    "language_info": {
      "name": "python"
    }
  },
  "cells": [
    {
      "cell_type": "markdown",
      "metadata": {
        "id": "view-in-github",
        "colab_type": "text"
      },
      "source": [
        "<a href=\"https://colab.research.google.com/github/seabay/code_exercise/blob/master/lc1856.ipynb\" target=\"_parent\"><img src=\"https://colab.research.google.com/assets/colab-badge.svg\" alt=\"Open In Colab\"/></a>"
      ]
    },
    {
      "cell_type": "code",
      "metadata": {
        "id": "ZBIdL-FVHeIA"
      },
      "source": [
        "import math\n",
        "class Solution:\n",
        "    def maxSumMinProduct(self, nums):\n",
        "        \n",
        "        size=len(nums)\n",
        "        stack=[]\n",
        "        \n",
        "        dp=[0 for i in range(size+1)]\n",
        "        for i in range(1, size+1):\n",
        "            dp[i] = dp[i-1]+nums[i-1]\n",
        "        print(dp)    \n",
        "        \n",
        "        res=-math.inf\n",
        "        for i in range(size+1):\n",
        "            while len(stack)>0 and (i==size or nums[stack[-1]]>nums[i]):\n",
        "                idx=stack[-1]  ## current max value\n",
        "                del stack[-1]\n",
        "                res=max(res, nums[idx]*(dp[i]-dp[stack[-1]+1 if len(stack)>0 else 0]))\n",
        "            stack.append(i)\n",
        "      \n",
        "        return res"
      ],
      "execution_count": 68,
      "outputs": []
    },
    {
      "cell_type": "code",
      "metadata": {
        "id": "Z1XrjOaWHf7i"
      },
      "source": [
        "s=Solution()"
      ],
      "execution_count": 69,
      "outputs": []
    },
    {
      "cell_type": "code",
      "metadata": {
        "colab": {
          "base_uri": "https://localhost:8080/"
        },
        "id": "0OOK4WmJHnds",
        "outputId": "e1c4654e-9c98-47ab-80ff-e51be3de8f4e"
      },
      "source": [
        "s.maxSumMinProduct([1,2,3,2])"
      ],
      "execution_count": 70,
      "outputs": [
        {
          "output_type": "stream",
          "text": [
            "[0, 1, 3, 6, 8]\n"
          ],
          "name": "stdout"
        },
        {
          "output_type": "execute_result",
          "data": {
            "text/plain": [
              "14"
            ]
          },
          "metadata": {
            "tags": []
          },
          "execution_count": 70
        }
      ]
    },
    {
      "cell_type": "code",
      "metadata": {
        "id": "kY9E5DYkHo_P"
      },
      "source": [
        ""
      ],
      "execution_count": 67,
      "outputs": []
    }
  ]
}