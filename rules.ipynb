{
 "cells": [
  {
   "cell_type": "code",
   "execution_count": null,
   "metadata": {},
   "outputs": [],
   "source": []
  },
  {
   "cell_type": "code",
   "execution_count": 2,
   "metadata": {},
   "outputs": [],
   "source": [
    "def transfer(src, tar, rids, idxs, strs, t):\n",
    "\n",
    "    tran_list = []\n",
    "    for i in range(len(rules)):\n",
    "        idx = src.find(rules[i][0])\n",
    "        if idx >= 0:\n",
    "            idx += 1\n",
    "            ter = src.replace(rules[i][0], rules[i][1], 1)\n",
    "            tran_list.append((ter, i + 1, idx, ter)) \n",
    "            if ter == tar and len(rids) == (t-1):\n",
    "                rids.append(i + 1)\n",
    "                idxs.append(idx)\n",
    "                strs.append(ter)\n",
    "                return rids, True, idxs, strs\n",
    "\n",
    "    if len(rids) > t:\n",
    "        return rids, False, idxs, strs\n",
    "\n",
    "\n",
    "\n",
    "    for v1, v2, v3, v4 in tran_list:\n",
    "        result = transfer(v1, tar, rids + [v2], idxs + [v3], strs + [v4], t)\n",
    "        if result and result[1]:\n",
    "            return result"
   ]
  },
  {
   "cell_type": "code",
   "execution_count": 58,
   "metadata": {},
   "outputs": [],
   "source": [
    "found = False\n",
    "### depth first search, 回溯\n",
    "def transfer(src, tar, paths, rids, t):\n",
    "\n",
    "    global found\n",
    "    \n",
    "    if found:\n",
    "        return\n",
    "    \n",
    "    if len(rids) > t:\n",
    "        return\n",
    "    \n",
    "    if src == tar and len(rids) == t:\n",
    "        found = True\n",
    "        print(src, tar, rids)\n",
    "        return\n",
    "    \n",
    "    for i in range(len(rules)):\n",
    "        idx = src.find(rules[i][0])\n",
    "        if idx >= 0:\n",
    "            idx += 1\n",
    "            ter = src.replace(rules[i][0], rules[i][1], 1)\n",
    "            paths[ter] = (src, i+1, idx)\n",
    "            transfer(ter, tar, paths, rids+[i+1], t)\n"
   ]
  },
  {
   "cell_type": "code",
   "execution_count": null,
   "metadata": {},
   "outputs": [],
   "source": []
  },
  {
   "cell_type": "code",
   "execution_count": 59,
   "metadata": {},
   "outputs": [],
   "source": [
    "rules = [(\"AB\",\"BB\"), (\"B\", \"AA\"), (\"AA\",\"AB\")]"
   ]
  },
  {
   "cell_type": "code",
   "execution_count": 60,
   "metadata": {},
   "outputs": [
    {
     "name": "stdout",
     "output_type": "stream",
     "text": [
      "AAAAAA AAAAAA [1, 2, 1, 1, 2, 2, 2]\n"
     ]
    }
   ],
   "source": [
    "\n",
    "paths = {}\n",
    "transfer(\"AB\", \"AAAAAA\", paths, [], 7)"
   ]
  },
  {
   "cell_type": "code",
   "execution_count": 61,
   "metadata": {},
   "outputs": [
    {
     "data": {
      "text/plain": [
       "{'BB': ('AB', 1, 1),\n",
       " 'AAB': ('BB', 2, 1),\n",
       " 'ABB': ('AAB', 3, 1),\n",
       " 'BBB': ('ABB', 1, 1),\n",
       " 'AABB': ('BBB', 2, 1),\n",
       " 'ABBB': ('AABB', 3, 1),\n",
       " 'BBBB': ('ABBB', 1, 1),\n",
       " 'AABBB': ('AAABB', 1, 3),\n",
       " 'AAABB': ('AAAAB', 1, 4),\n",
       " 'AAAAAB': ('AAABB', 2, 4),\n",
       " 'ABABB': ('AAABB', 3, 1),\n",
       " 'AAAAB': ('AABB', 2, 3),\n",
       " 'AAAAAA': ('AAAAB', 2, 5),\n",
       " 'ABAAB': ('AAAAB', 3, 1),\n",
       " 'AAAB': ('ABB', 2, 2),\n",
       " 'AAAA': ('AAB', 2, 3),\n",
       " 'AAA': ('AB', 2, 2)}"
      ]
     },
     "execution_count": 61,
     "metadata": {},
     "output_type": "execute_result"
    }
   ],
   "source": [
    "paths"
   ]
  },
  {
   "cell_type": "code",
   "execution_count": 62,
   "metadata": {},
   "outputs": [
    {
     "name": "stdout",
     "output_type": "stream",
     "text": [
      "('AAAAB', 2, 5)\n",
      "('AABB', 2, 3)\n",
      "('BBB', 2, 1)\n",
      "('ABB', 1, 1)\n",
      "('AAB', 3, 1)\n",
      "('BB', 2, 1)\n",
      "('AB', 1, 1)\n"
     ]
    }
   ],
   "source": [
    "k = paths['AAAAAA']\n",
    "print(k)\n",
    "for i in range(6):\n",
    "    k = paths[k[0]]\n",
    "    print(k)"
   ]
  },
  {
   "cell_type": "code",
   "execution_count": null,
   "metadata": {},
   "outputs": [],
   "source": []
  }
 ],
 "metadata": {
  "kernelspec": {
   "display_name": "Python 3",
   "language": "python",
   "name": "python3"
  },
  "language_info": {
   "codemirror_mode": {
    "name": "ipython",
    "version": 3
   },
   "file_extension": ".py",
   "mimetype": "text/x-python",
   "name": "python",
   "nbconvert_exporter": "python",
   "pygments_lexer": "ipython3",
   "version": "3.6.9"
  }
 },
 "nbformat": 4,
 "nbformat_minor": 2
}
