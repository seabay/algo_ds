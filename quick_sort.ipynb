{
 "cells": [
  {
   "cell_type": "code",
   "execution_count": 11,
   "metadata": {},
   "outputs": [],
   "source": [
    "data = [14, 3, 9, 11, 2, 8, 9, 13, 60, 40, 30]"
   ]
  },
  {
   "cell_type": "code",
   "execution_count": 7,
   "metadata": {},
   "outputs": [],
   "source": [
    "def quick_sort(data, p, r):\n",
    "    \n",
    "    if p>=r:\n",
    "        return\n",
    "    \n",
    "    left, right = partition(data, p, r)\n",
    "    quick_sort(data, left[0], left[1])\n",
    "    quick_sort(data, right[0], right[1])"
   ]
  },
  {
   "cell_type": "code",
   "execution_count": 8,
   "metadata": {},
   "outputs": [],
   "source": [
    "def partition(data, p, r):\n",
    "    \n",
    "    pivot = data[r]\n",
    "    ##通过游标 i 把 A[p…r-1]分成两部分\n",
    "    i = j = p  \n",
    "    while(j <= r):      \n",
    "        if data[j] < pivot:\n",
    "            data[i], data[j] = data[j], data[i]\n",
    "            i += 1\n",
    "        j += 1\n",
    "    \n",
    "    data[i], data[r] = data[r], data[i]  ### 把 pivot 放到位置\n",
    "    \n",
    "    return (p, i-1), (i+1, r)"
   ]
  },
  {
   "cell_type": "code",
   "execution_count": 12,
   "metadata": {},
   "outputs": [],
   "source": [
    "quick_sort(data, 0, len(data)-1)"
   ]
  },
  {
   "cell_type": "code",
   "execution_count": 13,
   "metadata": {},
   "outputs": [
    {
     "data": {
      "text/plain": [
       "[2, 3, 8, 9, 9, 11, 13, 14, 30, 40, 60]"
      ]
     },
     "execution_count": 13,
     "metadata": {},
     "output_type": "execute_result"
    }
   ],
   "source": [
    "data"
   ]
  },
  {
   "cell_type": "code",
   "execution_count": null,
   "metadata": {},
   "outputs": [],
   "source": []
  }
 ],
 "metadata": {
  "kernelspec": {
   "display_name": "Python 3",
   "language": "python",
   "name": "python3"
  },
  "language_info": {
   "codemirror_mode": {
    "name": "ipython",
    "version": 3
   },
   "file_extension": ".py",
   "mimetype": "text/x-python",
   "name": "python",
   "nbconvert_exporter": "python",
   "pygments_lexer": "ipython3",
   "version": "3.6.9"
  }
 },
 "nbformat": 4,
 "nbformat_minor": 2
}
