{
  "nbformat": 4,
  "nbformat_minor": 0,
  "metadata": {
    "kernelspec": {
      "display_name": "Python 3",
      "language": "python",
      "name": "python3"
    },
    "language_info": {
      "codemirror_mode": {
        "name": "ipython",
        "version": 3
      },
      "file_extension": ".py",
      "mimetype": "text/x-python",
      "name": "python",
      "nbconvert_exporter": "python",
      "pygments_lexer": "ipython3",
      "version": "3.6.9"
    },
    "colab": {
      "name": "quick_sort.ipynb",
      "provenance": []
    }
  },
  "cells": [
    {
      "cell_type": "code",
      "metadata": {
        "id": "92f_l9RLKoUd"
      },
      "source": [
        "data = [14, 3, 9, 11, 2, 8, 9, 13, 60, 40, 30]"
      ],
      "execution_count": null,
      "outputs": []
    },
    {
      "cell_type": "code",
      "metadata": {
        "id": "q_Yvj47jKoUe"
      },
      "source": [
        "def quick_sort(data, p, r):\n",
        "    \n",
        "    if p>=r:\n",
        "        return\n",
        "    \n",
        "    left, right = partition(data, p, r)\n",
        "    quick_sort(data, left[0], left[1])\n",
        "    quick_sort(data, right[0], right[1])"
      ],
      "execution_count": null,
      "outputs": []
    },
    {
      "cell_type": "code",
      "metadata": {
        "id": "jYOk-scCKoUe"
      },
      "source": [
        "def partition(data, p, r):\n",
        "    \n",
        "    pivot = data[r]\n",
        "    ##通过游标 i 把 A[p…r-1]分成两部分\n",
        "    i = j = p  \n",
        "    while(j <= r):      \n",
        "        if data[j] < pivot:\n",
        "            data[i], data[j] = data[j], data[i]\n",
        "            i += 1\n",
        "        j += 1\n",
        "    \n",
        "    data[i], data[r] = data[r], data[i]  ### 把 pivot 放到位置\n",
        "    \n",
        "    return (p, i-1), (i+1, r)"
      ],
      "execution_count": null,
      "outputs": []
    },
    {
      "cell_type": "code",
      "metadata": {
        "id": "pKb3XYGrKqCl"
      },
      "source": [
        "int partition(int[] nums, int lo, int hi) {\n",
        "    if (lo == hi) return lo;\n",
        "    // 将 nums[lo] 作为默认分界点 pivot\n",
        "    int pivot = nums[lo];\n",
        "    // j = hi + 1 因为 while 中会先执行 --\n",
        "    int i = lo, j = hi + 1;\n",
        "    while (true) {\n",
        "        // 保证 nums[lo..i] 都小于 pivot\n",
        "        while (nums[++i] < pivot) {\n",
        "            if (i == hi) break;\n",
        "        }\n",
        "        // 保证 nums[j..hi] 都大于 pivot\n",
        "        while (nums[--j] > pivot) {\n",
        "            if (j == lo) break;\n",
        "        }\n",
        "        if (i >= j) break;\n",
        "        // 如果走到这里，一定有：\n",
        "        // nums[i] > pivot && nums[j] < pivot\n",
        "        // 所以需要交换 nums[i] 和 nums[j]，\n",
        "        // 保证 nums[lo..i] < pivot < nums[j..hi]\n",
        "        swap(nums, i, j);\n",
        "    }\n",
        "    // 将 pivot 值交换到正确的位置\n",
        "    swap(nums, j, lo);\n",
        "    // 现在 nums[lo..j-1] < nums[j] < nums[j+1..hi]\n",
        "    return j;\n",
        "}\n",
        "\n",
        "// 交换数组中的两个元素\n",
        "void swap(int[] nums, int i, int j) {\n",
        "    int temp = nums[i];\n",
        "    nums[i] = nums[j];\n",
        "    nums[j] = temp;\n",
        "}\n"
      ],
      "execution_count": null,
      "outputs": []
    },
    {
      "cell_type": "code",
      "metadata": {
        "id": "Hw0UoFo2KoUe"
      },
      "source": [
        "quick_sort(data, 0, len(data)-1)"
      ],
      "execution_count": null,
      "outputs": []
    },
    {
      "cell_type": "code",
      "metadata": {
        "id": "9BsSD6N8KoUf",
        "outputId": "8d14d290-16cc-4726-d335-00e7f20a260f"
      },
      "source": [
        "data"
      ],
      "execution_count": null,
      "outputs": [
        {
          "output_type": "execute_result",
          "data": {
            "text/plain": [
              "[2, 3, 8, 9, 9, 11, 13, 14, 30, 40, 60]"
            ]
          },
          "metadata": {
            "tags": []
          },
          "execution_count": 13
        }
      ]
    },
    {
      "cell_type": "code",
      "metadata": {
        "id": "BzCw8TqiKoUf"
      },
      "source": [
        ""
      ],
      "execution_count": null,
      "outputs": []
    }
  ]
}