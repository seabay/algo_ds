{
 "cells": [
  {
   "cell_type": "code",
   "execution_count": 7,
   "metadata": {},
   "outputs": [],
   "source": [
    "from collections import defaultdict"
   ]
  },
  {
   "cell_type": "code",
   "execution_count": null,
   "metadata": {},
   "outputs": [],
   "source": []
  },
  {
   "cell_type": "code",
   "execution_count": 26,
   "metadata": {},
   "outputs": [],
   "source": [
    "def get_nexts(tar):\n",
    "    \n",
    "    nexts = {0:-1}\n",
    "    k = -1\n",
    "    \n",
    "    for i in range(1, len(tar)):\n",
    "        while k!=-1 and tar[k+1] != tar[i]:\n",
    "            print(tar[k+1], '≠', tar[i])\n",
    "            k = nexts[k]\n",
    "            print(k, tar[k])\n",
    "        if tar[k+1] == tar[i]:\n",
    "            k += 1\n",
    "        nexts[i] = k\n",
    "    \n",
    "    return nexts"
   ]
  },
  {
   "cell_type": "code",
   "execution_count": 48,
   "metadata": {},
   "outputs": [],
   "source": [
    "def find(src, tar):\n",
    "    \n",
    "    s1 = len(src)\n",
    "    s2 = len(tar)\n",
    "    \n",
    "    if(s1 < s2):\n",
    "        retuen -1\n",
    "        \n",
    "    nexts = get_nexts(tar)\n",
    "    print(nexts)\n",
    "    \n",
    "    j = 0\n",
    "    for i in range(s1):\n",
    "        if src[i] == tar[j]:\n",
    "            j += 1 \n",
    "            if j == s2:\n",
    "                return i-s2+1\n",
    "        else:\n",
    "            while j>0 and src[i] != tar[j]:\n",
    "                n = nexts[j-1]\n",
    "                j = n + 1\n",
    "            \n",
    "    return -1"
   ]
  },
  {
   "cell_type": "code",
   "execution_count": 53,
   "metadata": {},
   "outputs": [],
   "source": [
    "src = 'dababacf'\n",
    "tar = 'ababac'"
   ]
  },
  {
   "cell_type": "code",
   "execution_count": 54,
   "metadata": {},
   "outputs": [
    {
     "name": "stdout",
     "output_type": "stream",
     "text": [
      "b ≠ c\n",
      "0 a\n",
      "b ≠ c\n",
      "-1 c\n",
      "{0: -1, 1: -1, 2: 0, 3: 1, 4: 2, 5: -1}\n"
     ]
    },
    {
     "data": {
      "text/plain": [
       "1"
      ]
     },
     "execution_count": 54,
     "metadata": {},
     "output_type": "execute_result"
    }
   ],
   "source": [
    "find(src, tar)"
   ]
  },
  {
   "cell_type": "code",
   "execution_count": null,
   "metadata": {},
   "outputs": [],
   "source": []
  }
 ],
 "metadata": {
  "kernelspec": {
   "display_name": "Python 3",
   "language": "python",
   "name": "python3"
  },
  "language_info": {
   "codemirror_mode": {
    "name": "ipython",
    "version": 3
   },
   "file_extension": ".py",
   "mimetype": "text/x-python",
   "name": "python",
   "nbconvert_exporter": "python",
   "pygments_lexer": "ipython3",
   "version": "3.6.9"
  }
 },
 "nbformat": 4,
 "nbformat_minor": 2
}
