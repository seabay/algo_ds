{
  "nbformat": 4,
  "nbformat_minor": 0,
  "metadata": {
    "colab": {
      "name": "Sudoku Solver.ipynb",
      "provenance": [],
      "authorship_tag": "ABX9TyOJZXPVsj/HTAo+drxO0PVJ",
      "include_colab_link": true
    },
    "kernelspec": {
      "name": "python3",
      "display_name": "Python 3"
    }
  },
  "cells": [
    {
      "cell_type": "markdown",
      "metadata": {
        "id": "view-in-github",
        "colab_type": "text"
      },
      "source": [
        "<a href=\"https://colab.research.google.com/github/seabay/code_exercise/blob/master/Sudoku_Solver.ipynb\" target=\"_parent\"><img src=\"https://colab.research.google.com/assets/colab-badge.svg\" alt=\"Open In Colab\"/></a>"
      ]
    },
    {
      "cell_type": "code",
      "metadata": {
        "id": "d2-PLX2Syh2Q"
      },
      "source": [
        "def column(matrix, i):\n",
        "    return [row[i] for row in matrix]"
      ],
      "execution_count": 1,
      "outputs": []
    },
    {
      "cell_type": "code",
      "metadata": {
        "id": "pY877L_zyspc"
      },
      "source": [
        "def check_(row, col, n, board):\n",
        "    if str(n) in set(board[row]):\n",
        "        return False\n",
        "    if str(n) in set(column(board, col)):\n",
        "        return False\n",
        "\n",
        "    box_left, box_right, boxup, boxbottom=-1,-1,-1,-1\n",
        "\n",
        "    if row <= 2:\n",
        "        boxup=0\n",
        "        boxbottom=2\n",
        "    elif row <=5:\n",
        "        boxup=3\n",
        "        boxbottom=5\n",
        "    else:\n",
        "        boxup=6\n",
        "        boxbottom=8\n",
        "\n",
        "    if col <= 2:\n",
        "        box_left=0\n",
        "        box_right=2\n",
        "    elif col <=5:\n",
        "        box_left=3\n",
        "        box_right=5\n",
        "    else:\n",
        "        box_left=6\n",
        "        box_right=8\n",
        "\n",
        "    for i in range(boxup, boxbottom+1):\n",
        "        for j in range(box_left, box_right+1):\n",
        "            if board[i][j] == n:\n",
        "                return False\n",
        "\n",
        "    return True"
      ],
      "execution_count": 3,
      "outputs": []
    },
    {
      "cell_type": "code",
      "metadata": {
        "id": "k97UBVVGytJk"
      },
      "source": [
        "def backt(board, rn, cn):\n",
        "     \n",
        "    if rn == len(board): return True\n",
        "                \n",
        "    if board[rn][cn] != '.':\n",
        "      if (cn+1) == 9:\n",
        "          if(backt(board, rn+1, 0)):\n",
        "              return True\n",
        "      else:\n",
        "          if(backt(board, rn, cn+1)):\n",
        "              return True\n",
        "    else:\n",
        "\n",
        "      for n in range(1, 10):\n",
        "          if not check_(rn, cn, str(n), board): \n",
        "            continue\n",
        "\n",
        "          board[rn][cn]=str(n)\n",
        "          if (cn+1) == 9:\n",
        "              if(backt(board, rn+1, 0)):\n",
        "                  return True\n",
        "          else:\n",
        "              if(backt(board, rn, cn+1)):\n",
        "                  return True\n",
        "              \n",
        "      board[rn][cn] = '.'\n",
        "                \n",
        "    return False"
      ],
      "execution_count": 7,
      "outputs": []
    },
    {
      "cell_type": "code",
      "metadata": {
        "id": "BvVkmnEXy2NF"
      },
      "source": [
        "board = [[\"5\",\"3\",\".\",\".\",\"7\",\".\",\".\",\".\",\".\"],[\"6\",\".\",\".\",\"1\",\"9\",\"5\",\".\",\".\",\".\"],[\".\",\"9\",\"8\",\".\",\".\",\".\",\".\",\"6\",\".\"],[\"8\",\".\",\".\",\".\",\"6\",\".\",\".\",\".\",\"3\"],[\"4\",\".\",\".\",\"8\",\".\",\"3\",\".\",\".\",\"1\"],[\"7\",\".\",\".\",\".\",\"2\",\".\",\".\",\".\",\"6\"],[\".\",\"6\",\".\",\".\",\".\",\".\",\"2\",\"8\",\".\"],[\".\",\".\",\".\",\"4\",\"1\",\"9\",\".\",\".\",\"5\"],[\".\",\".\",\".\",\".\",\"8\",\".\",\".\",\"7\",\"9\"]]\n"
      ],
      "execution_count": 5,
      "outputs": []
    },
    {
      "cell_type": "code",
      "metadata": {
        "id": "b5m1MgYCy4M3",
        "outputId": "1fc4e66c-4d34-4523-d7cc-1cb35798ddf0",
        "colab": {
          "base_uri": "https://localhost:8080/",
          "height": 34
        }
      },
      "source": [
        "backt(board,0,0)"
      ],
      "execution_count": 8,
      "outputs": [
        {
          "output_type": "execute_result",
          "data": {
            "text/plain": [
              "True"
            ]
          },
          "metadata": {
            "tags": []
          },
          "execution_count": 8
        }
      ]
    },
    {
      "cell_type": "code",
      "metadata": {
        "id": "4vLWvUU0y6xb",
        "outputId": "92345175-8885-4a80-beab-b9c35a562445",
        "colab": {
          "base_uri": "https://localhost:8080/",
          "height": 170
        }
      },
      "source": [
        "board"
      ],
      "execution_count": 9,
      "outputs": [
        {
          "output_type": "execute_result",
          "data": {
            "text/plain": [
              "[['5', '3', '4', '6', '7', '8', '9', '1', '2'],\n",
              " ['6', '7', '2', '1', '9', '5', '3', '4', '8'],\n",
              " ['1', '9', '8', '3', '4', '2', '5', '6', '7'],\n",
              " ['8', '5', '9', '7', '6', '1', '4', '2', '3'],\n",
              " ['4', '2', '6', '8', '5', '3', '7', '9', '1'],\n",
              " ['7', '1', '3', '9', '2', '4', '8', '5', '6'],\n",
              " ['9', '6', '1', '5', '3', '7', '2', '8', '4'],\n",
              " ['2', '8', '7', '4', '1', '9', '6', '3', '5'],\n",
              " ['3', '4', '5', '2', '8', '6', '1', '7', '9']]"
            ]
          },
          "metadata": {
            "tags": []
          },
          "execution_count": 9
        }
      ]
    },
    {
      "cell_type": "code",
      "metadata": {
        "id": "CUArkEIGy_BJ"
      },
      "source": [
        ""
      ],
      "execution_count": null,
      "outputs": []
    }
  ]
}